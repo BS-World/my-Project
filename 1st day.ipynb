{
 "cells": [
  {
   "cell_type": "code",
   "execution_count": null,
   "id": "b5b94b1a",
   "metadata": {},
   "outputs": [],
   "source": [
    "number = int(input(\"Enter a number: \")) \n",
    "\n",
    "if number % 2 == 0:\n",
    "    print(\"Even\")\n",
    "else:\n",
    "    print(\"Odd\")\n"
   ]
  },
  {
   "cell_type": "code",
   "execution_count": null,
   "id": "ad62743c",
   "metadata": {},
   "outputs": [],
   "source": [
    "age = int(input(\"Enter your age: \")) \n",
    "\n",
    "if age >= 18:\n",
    "    print(\"You are old enough to vote\")\n",
    "else:\n",
    "    print(\"You are not old enough to vote yet\")\n"
   ]
  },
  {
   "cell_type": "code",
   "execution_count": null,
   "id": "b059d33b",
   "metadata": {},
   "outputs": [],
   "source": [
    "percentage = float(input(\"Enter your grade percentage: \")) \n",
    "\n",
    "if percentage >= 90: \n",
    "    print(\"Your letter grade is A\")\n",
    "elif percentage >= 80: \n",
    "    print(\"Your letter grade is B\")\n",
    "elif percentage >= 70: \n",
    "    print(\"Your letter grade is C\")\n",
    "elif percentage >= 60:\n",
    "    print(\"Your letter grade is D\")\n",
    "else: \n",
    "    print(\"Your letter grade is F\")\n"
   ]
  },
  {
   "cell_type": "code",
   "execution_count": null,
   "id": "6b0b9468",
   "metadata": {},
   "outputs": [],
   "source": [
    "password = input(\"Enter your password: \") \n",
    "\n",
    "if password == \"bhanu9713\": \n",
    "    print(\"Access granted\")\n",
    "else:\n",
    "    print(\"Access denied\")\n"
   ]
  },
  {
   "cell_type": "code",
   "execution_count": null,
   "id": "033c0c78",
   "metadata": {},
   "outputs": [],
   "source": [
    "var = int(input(\"enter any number\"))\n",
    "if var < 200:\n",
    "    print (\"Expression value is less than 200\")\n",
    "    if var == 150:\n",
    "        print (\"Which is 150\")\n",
    "    elif var == 100:\n",
    "        print (\"Which is 100\")\n",
    "    elif var == 50:\n",
    "        print (\"Which is 50\")\n",
    "    elif var < 50:\n",
    "        print (\"Expression value is less than 50\")\n",
    "else:\n",
    "    print (\"Could not find true expression\")\n",
    "print (\"Good bye!\")"
   ]
  },
  {
   "cell_type": "code",
   "execution_count": null,
   "id": "403fb9d4",
   "metadata": {},
   "outputs": [],
   "source": [
    "while True:\n",
    "    try:\n",
    "        num = int(input(\"Please enter a number: \"))\n",
    "        if num < 200:\n",
    "            print (\"Expression value is less than 200\")\n",
    "        if num == 150:\n",
    "            print (\"Which is 150\")\n",
    "        elif num == 100:\n",
    "            print (\"Which is 100\")\n",
    "        elif num == 50:\n",
    "            print (\"Which is 50\")\n",
    "        elif num < 50:\n",
    "        print (\"Expression value is less than 50\")\n",
    "        continue\n",
    "    except ValueError:\n",
    "        else:\n",
    "            print (\"Could not find true expression\")\n",
    "print (\"Good bye!\")\n",
    "        print(\"Invalid input. Please enter a valid integer.\")\n"
   ]
  },
  {
   "cell_type": "code",
   "execution_count": null,
   "id": "b360429e",
   "metadata": {},
   "outputs": [
    {
     "name": "stdout",
     "output_type": "stream",
     "text": [
      "Please enter a number: 50\n",
      "Expression value is less than 200\n",
      "Which is 50\n",
      "Please enter a number: 150\n",
      "Expression value is less than 200\n",
      "Which is 150\n",
      "Please enter a number: 555\n",
      "Could not find true expression\n",
      "Please enter a number: 554\n",
      "Could not find true expression\n"
     ]
    }
   ],
   "source": [
    "while True:\n",
    "    try:\n",
    "        num = int(input(\"Please enter a number: \"))\n",
    "        if num < 200:\n",
    "            print(\"Expression value is less than 200\")\n",
    "            if num == 150:\n",
    "                print(\"Which is 150\")\n",
    "            elif num == 100:\n",
    "                print(\"Which is 100\")\n",
    "            elif num == 50:\n",
    "                print(\"Which is 50\")\n",
    "            elif num < 50:\n",
    "                print(\"Expression value is less than 50\")\n",
    "        else:\n",
    "            print(\"Could not find true expression\")\n",
    "        continue\n",
    "    except ValueError:\n",
    "        print(\"Invalid input. Please enter a valid integer.\")\n",
    "\n",
    "print(\"Good bye!\")\n"
   ]
  },
  {
   "cell_type": "code",
   "execution_count": null,
   "id": "b88c0a00",
   "metadata": {},
   "outputs": [],
   "source": []
  }
 ],
 "metadata": {
  "kernelspec": {
   "display_name": "Python 3 (ipykernel)",
   "language": "python",
   "name": "python3"
  },
  "language_info": {
   "codemirror_mode": {
    "name": "ipython",
    "version": 3
   },
   "file_extension": ".py",
   "mimetype": "text/x-python",
   "name": "python",
   "nbconvert_exporter": "python",
   "pygments_lexer": "ipython3",
   "version": "3.9.13"
  },
  "nbTranslate": {
   "displayLangs": [
    "*"
   ],
   "hotkey": "alt-t",
   "langInMainMenu": true,
   "sourceLang": "en",
   "targetLang": "fr",
   "useGoogleTranslate": true
  }
 },
 "nbformat": 4,
 "nbformat_minor": 5
}
